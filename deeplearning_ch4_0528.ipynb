{
  "nbformat": 4,
  "nbformat_minor": 0,
  "metadata": {
    "colab": {
      "name": "deeplearning_ch4_0528.ipynb",
      "provenance": [],
      "collapsed_sections": [],
      "authorship_tag": "ABX9TyPa6333OJp4MvcpzV8s95E9",
      "include_colab_link": true
    },
    "kernelspec": {
      "name": "python3",
      "display_name": "Python 3"
    }
  },
  "cells": [
    {
      "cell_type": "markdown",
      "metadata": {
        "id": "view-in-github",
        "colab_type": "text"
      },
      "source": [
        "<a href=\"https://colab.research.google.com/github/sechiyo97/studyDeeplearning/blob/master/deeplearning_ch4_0528.ipynb\" target=\"_parent\"><img src=\"https://colab.research.google.com/assets/colab-badge.svg\" alt=\"Open In Colab\"/></a>"
      ]
    },
    {
      "cell_type": "code",
      "metadata": {
        "id": "Mil-m28In9kV",
        "colab_type": "code",
        "colab": {
          "base_uri": "https://localhost:8080/",
          "height": 124
        },
        "outputId": "5fcb75f2-73b0-4ba2-def3-9c7de65ccb34"
      },
      "source": [
        "from google.colab import drive\n",
        "drive.mount('/content/drive/')"
      ],
      "execution_count": 1,
      "outputs": [
        {
          "output_type": "stream",
          "text": [
            "Go to this URL in a browser: https://accounts.google.com/o/oauth2/auth?client_id=947318989803-6bn6qk8qdgf4n4g3pfee6491hc0brc4i.apps.googleusercontent.com&redirect_uri=urn%3aietf%3awg%3aoauth%3a2.0%3aoob&response_type=code&scope=email%20https%3a%2f%2fwww.googleapis.com%2fauth%2fdocs.test%20https%3a%2f%2fwww.googleapis.com%2fauth%2fdrive%20https%3a%2f%2fwww.googleapis.com%2fauth%2fdrive.photos.readonly%20https%3a%2f%2fwww.googleapis.com%2fauth%2fpeopleapi.readonly\n",
            "\n",
            "Enter your authorization code:\n",
            "··········\n",
            "Mounted at /content/drive/\n"
          ],
          "name": "stdout"
        }
      ]
    },
    {
      "cell_type": "markdown",
      "metadata": {
        "id": "bi0R06wciyFk",
        "colab_type": "text"
      },
      "source": [
        "신경망 학습"
      ]
    },
    {
      "cell_type": "code",
      "metadata": {
        "id": "yRggA0Mfz6ef",
        "colab_type": "code",
        "colab": {}
      },
      "source": [
        "import sys\n",
        "import numpy as np\n",
        "import matplotlib.pylab as plt\n",
        "sys.path.insert(0,'/content/drive/My Drive/Colab Notebooks/DeepLearning/04')"
      ],
      "execution_count": 0,
      "outputs": []
    },
    {
      "cell_type": "markdown",
      "metadata": {
        "id": "Q9Y81lTLiv4g",
        "colab_type": "text"
      },
      "source": [
        "손실 함수"
      ]
    },
    {
      "cell_type": "markdown",
      "metadata": {
        "id": "jtwVSZTFi0ZJ",
        "colab_type": "text"
      },
      "source": [
        "오차제곱합"
      ]
    },
    {
      "cell_type": "code",
      "metadata": {
        "id": "RcewKOMmgdpE",
        "colab_type": "code",
        "colab": {}
      },
      "source": [
        "def sum_squares_error(y,t):\n",
        "  return 0.5 * np.sum((y-t)**2)"
      ],
      "execution_count": 0,
      "outputs": []
    },
    {
      "cell_type": "markdown",
      "metadata": {
        "id": "eWqTews-jBly",
        "colab_type": "text"
      },
      "source": [
        "교차 엔트로피 오차 : 정답일 때의 출력이 전체 값을 정함. \n",
        "정답에 해당하는 출력이 커질수록 0에 수렴.\n"
      ]
    },
    {
      "cell_type": "code",
      "metadata": {
        "id": "Bo6nNMlTg7Ve",
        "colab_type": "code",
        "colab": {}
      },
      "source": [
        "def cross_entropy_error(y,t):\n",
        "  delta = 1e-7\n",
        "  return -np.sum(t*np.log(y+delta))"
      ],
      "execution_count": 0,
      "outputs": []
    },
    {
      "cell_type": "markdown",
      "metadata": {
        "id": "fdT-xw0ajLAR",
        "colab_type": "text"
      },
      "source": [
        "미니배치 학습에서의 손실함수"
      ]
    },
    {
      "cell_type": "markdown",
      "metadata": {
        "id": "oYft4KH5vUy-",
        "colab_type": "text"
      },
      "source": [
        "랜덤 미니배치 뽑아내기"
      ]
    },
    {
      "cell_type": "code",
      "metadata": {
        "id": "JFDhEMhvkCvj",
        "colab_type": "code",
        "colab": {
          "base_uri": "https://localhost:8080/",
          "height": 52
        },
        "outputId": "e3635230-f027-4504-97fe-af59a70f4797"
      },
      "source": [
        "import sys, os\n",
        "import numpy as np\n",
        "from mnist import load_mnist\n",
        "\n",
        "(x_train, t_train), (x_test, t_test) = load_mnist(normalize= True, one_hot_label = True)\n",
        "\n",
        "print(x_train.shape) # (60000,784)\n",
        "print(t_train.shape) # (60000,10)\n",
        "\n",
        "train_size = x_train.shape[0]\n",
        "batch_size = 10\n",
        "batch_mask = np.random.choice(train_size, batch_size) # train size에서 batch_size만큼 랜덤으로 선택\n",
        "x_batch = x_train[batch_mask]\n",
        "t_batch = t_train[batch_mask]\n",
        "\n",
        "tran"
      ],
      "execution_count": 19,
      "outputs": [
        {
          "output_type": "stream",
          "text": [
            "(60000, 784)\n",
            "(60000, 10)\n"
          ],
          "name": "stdout"
        }
      ]
    },
    {
      "cell_type": "markdown",
      "metadata": {
        "id": "N7RF_Df9vYxX",
        "colab_type": "text"
      },
      "source": [
        "배치용 교차 엔트로피 오차"
      ]
    },
    {
      "cell_type": "code",
      "metadata": {
        "id": "8n72lD1svTes",
        "colab_type": "code",
        "colab": {}
      },
      "source": [
        "def cross_entropy_error(y,t):\n",
        "  if y.ndim == 1: # (72,) => (1,72)\n",
        "    t = t.reshape(1, t.size)\n",
        "    y = y.reshape(1, y.size)\n",
        "\n",
        "  batch_size = y.shape[0]\n",
        "  return -np.sum(t * np.log(y+1e-7)) / batch_size\n",
        "\n",
        "  \"\"\" 정답 레이블이 one-hot encoding이 아니라 2,7 등 숫자 레이블일 경우\n",
        "  def cross_entropy_error(y,t):\n",
        "  if y.ndim == 1: \n",
        "    t = t.reshape(1, t.size)\n",
        "    y = y.reshape(1, y.size)\n",
        "\n",
        "  batch_size = y.shape[0]\n",
        "  return -np.sum(t * np.log(y[np.arange(batch_size),t]+1e-7)) / batch_size\n",
        "  \"\"\""
      ],
      "execution_count": 0,
      "outputs": []
    },
    {
      "cell_type": "markdown",
      "metadata": {
        "id": "J8vpikwO4xl7",
        "colab_type": "text"
      },
      "source": [
        "손실함수의 사용 이유 : 연속적인 값을 가지기 때문 (정확도는 아님)"
      ]
    },
    {
      "cell_type": "code",
      "metadata": {
        "id": "DxZ36Gjk4PE1",
        "colab_type": "code",
        "colab": {}
      },
      "source": [
        ""
      ],
      "execution_count": 0,
      "outputs": []
    },
    {
      "cell_type": "code",
      "metadata": {
        "id": "f2P13N-Y1JwO",
        "colab_type": "code",
        "colab": {}
      },
      "source": [
        ""
      ],
      "execution_count": 0,
      "outputs": []
    },
    {
      "cell_type": "markdown",
      "metadata": {
        "id": "Pfdah_9izjno",
        "colab_type": "text"
      },
      "source": [
        ""
      ]
    },
    {
      "cell_type": "code",
      "metadata": {
        "id": "QQM10M5SwH2R",
        "colab_type": "code",
        "colab": {}
      },
      "source": [
        ""
      ],
      "execution_count": 0,
      "outputs": []
    },
    {
      "cell_type": "markdown",
      "metadata": {
        "id": "WHJfvoJxvaqs",
        "colab_type": "text"
      },
      "source": [
        ""
      ]
    }
  ]
}