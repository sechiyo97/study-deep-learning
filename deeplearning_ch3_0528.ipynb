{
  "nbformat": 4,
  "nbformat_minor": 0,
  "metadata": {
    "colab": {
      "name": "deeplearning_ch3_0528.ipynb",
      "provenance": [],
      "collapsed_sections": [],
      "mount_file_id": "1wiXdxWXfJmJuI1oYE-km_MxXjYX4gNXc",
      "authorship_tag": "ABX9TyPQI9prTcRSIEB+ivjTzV2h",
      "include_colab_link": true
    },
    "kernelspec": {
      "name": "python3",
      "display_name": "Python 3"
    }
  },
  "cells": [
    {
      "cell_type": "markdown",
      "metadata": {
        "id": "view-in-github",
        "colab_type": "text"
      },
      "source": [
        "<a href=\"https://colab.research.google.com/github/sechiyo97/studyDeeplearning/blob/master/deeplearning_ch3_0528.ipynb\" target=\"_parent\"><img src=\"https://colab.research.google.com/assets/colab-badge.svg\" alt=\"Open In Colab\"/></a>"
      ]
    },
    {
      "cell_type": "markdown",
      "metadata": {
        "id": "X078zeEyduIE",
        "colab_type": "text"
      },
      "source": [
        "계단 함수"
      ]
    },
    {
      "cell_type": "code",
      "metadata": {
        "id": "Su0t84OOflMZ",
        "colab_type": "code",
        "colab": {}
      },
      "source": [
        "import numpy as np\n",
        "import matplotlib.pylab as plt\n",
        "sys.path.insert(1, '/content/drive/My Drive/Colab Notebooks/DeepLearning/03/')"
      ],
      "execution_count": 0,
      "outputs": []
    },
    {
      "cell_type": "code",
      "metadata": {
        "id": "iB_XCxVzdqAB",
        "colab_type": "code",
        "colab": {}
      },
      "source": [
        "# only integer and floating point\n",
        "def step_function(x):\n",
        "  if x>0:\n",
        "    return 1\n",
        "  else:\n",
        "    return 0"
      ],
      "execution_count": 0,
      "outputs": []
    },
    {
      "cell_type": "code",
      "metadata": {
        "id": "OudLP5cNfZT6",
        "colab_type": "code",
        "colab": {}
      },
      "source": [
        "# also numpy array\n",
        "def step_function(x):\n",
        "  return np.array(x>0, dtype=np.int)"
      ],
      "execution_count": 0,
      "outputs": []
    },
    {
      "cell_type": "code",
      "metadata": {
        "id": "j-DlG7GOf0QV",
        "colab_type": "code",
        "outputId": "c42e03fc-c9a8-4f0d-e18a-43972b0b070f",
        "colab": {
          "base_uri": "https://localhost:8080/",
          "height": 265
        }
      },
      "source": [
        "x = np.arange(-5.0,5.0,0.1)\n",
        "y = step_function(x)\n",
        "plt.plot(x,y)\n",
        "plt.ylim(-0.1,1.1) # y축 범위 지정\n",
        "plt.show()"
      ],
      "execution_count": 34,
      "outputs": [
        {
          "output_type": "display_data",
          "data": {
            "image/png": "[encoded data removed]",
            "text/plain": [
              "<Figure size 432x288 with 1 Axes>"
            ]
          },
          "metadata": {
            "tags": [],
            "needs_background": "light"
          }
        }
      ]
    },
    {
      "cell_type": "markdown",
      "metadata": {
        "id": "CieRPP3yf-bW",
        "colab_type": "text"
      },
      "source": [
        "시그모이드 함수"
      ]
    },
    {
      "cell_type": "code",
      "metadata": {
        "id": "FkuvGYF2f_tp",
        "colab_type": "code",
        "colab": {}
      },
      "source": [
        "def sigmoid(x):\n",
        "  return 1 / (1+np.exp(-x))"
      ],
      "execution_count": 0,
      "outputs": []
    },
    {
      "cell_type": "code",
      "metadata": {
        "id": "xbpd9NFpgHXP",
        "colab_type": "code",
        "outputId": "82114db8-b9b4-4db8-92e0-39a4ecf007bf",
        "colab": {
          "base_uri": "https://localhost:8080/",
          "height": 265
        }
      },
      "source": [
        "x = np.arange(-5.0,5.0,0.1)\n",
        "y = sigmoid(x)\n",
        "plt.plot(x,y)\n",
        "plt.ylim(-0.1,1.1) # y축 범위 지정\n",
        "plt.show()"
      ],
      "execution_count": 36,
      "outputs": [
        {
          "output_type": "display_data",
          "data": {
            "image/png": "[encoded data removed]",
            "text/plain": [
              "<Figure size 432x288 with 1 Axes>"
            ]
          },
          "metadata": {
            "tags": [],
            "needs_background": "light"
          }
        }
      ]
    },
    {
      "cell_type": "markdown",
      "metadata": {
        "id": "CjUGbeKqggxl",
        "colab_type": "text"
      },
      "source": [
        "ReLU (Rectified Linear Unit) 함수"
      ]
    },
    {
      "cell_type": "code",
      "metadata": {
        "id": "vOokOe8NghUR",
        "colab_type": "code",
        "colab": {}
      },
      "source": [
        "def relu(x):\n",
        "  return np.maximum(0,x)"
      ],
      "execution_count": 0,
      "outputs": []
    },
    {
      "cell_type": "code",
      "metadata": {
        "id": "l5Y2qizhgqbE",
        "colab_type": "code",
        "outputId": "8381dc95-5603-4c45-983a-8a0c8463b567",
        "colab": {
          "base_uri": "https://localhost:8080/",
          "height": 265
        }
      },
      "source": [
        "x = np.arange(-5.0,5.0,0.1)\n",
        "y = relu(x)\n",
        "plt.plot(x,y)\n",
        "plt.xlim(-6,6) # x축 범위 지정\n",
        "plt.ylim(-1,5.5) # y축 범위 지정\n",
        "plt.show()"
      ],
      "execution_count": 38,
      "outputs": [
        {
          "output_type": "display_data",
          "data": {
            "image/png": "[encoded data removed]",
            "text/plain": [
              "<Figure size 432x288 with 1 Axes>"
            ]
          },
          "metadata": {
            "tags": [],
            "needs_background": "light"
          }
        }
      ]
    },
    {
      "cell_type": "markdown",
      "metadata": {
        "id": "mKJj0hH7AKgI",
        "colab_type": "text"
      },
      "source": [
        "3층 신경망"
      ]
    },
    {
      "cell_type": "code",
      "metadata": {
        "id": "HenVv0QrD1BY",
        "colab_type": "code",
        "colab": {}
      },
      "source": [
        "# 활성화 함수\n",
        "def identity_function(x):\n",
        "  return x"
      ],
      "execution_count": 0,
      "outputs": []
    },
    {
      "cell_type": "code",
      "metadata": {
        "id": "tVH-Qbe6AOhL",
        "colab_type": "code",
        "outputId": "893dc734-c612-4441-c05c-cf16f6aa130d",
        "colab": {
          "base_uri": "https://localhost:8080/",
          "height": 52
        }
      },
      "source": [
        "X = np.array([1.0, 0.5])\n",
        "W1 = np.array([[0.1,0.3,0.5], [0.2,0.4,0.6]])\n",
        "B1 = np.array([0.1,0.2,0.3])\n",
        "\n",
        "#print(W1.shape) # (2,3)\n",
        "#print(X.shape) # (2,)\n",
        "#print(B1.shape) # (3,)\n",
        "\n",
        "A1 = np.dot(X,W1)+B1\n",
        "\n",
        "Z1 = sigmoid(A1)\n",
        "\n",
        "print(A1) # [0..3, 0.7, 1.1]\n",
        "print(Z1) # [0.57444252, 0.66818777, 0.75026011]\n",
        "\n",
        "W2 = np.array([[0.1, 0.4],[0.2,0.5],[0.3,0.6]])\n",
        "B2 = np.array([0.1,0.2])\n",
        "\n",
        "#print(Z1.shape) #(3,)\n",
        "#print(W2.shape) #(3, 2)\n",
        "#print(B2.shape) #(2,)\n",
        "\n",
        "A2 = np.dot(Z1,W2) + B2\n",
        "Z2 = sigmoid(A2)\n",
        "\n",
        "W3 = np.array([[0.1,0.3],[0.2,0.4]])\n",
        "B3 = np.array([0.1,0.2])\n",
        "\n",
        "A3 = np.dot(Z2,W3) + B3\n",
        "Y = identity_function(A3) # 혹은 Y = A3"
      ],
      "execution_count": 40,
      "outputs": [
        {
          "output_type": "stream",
          "text": [
            "[0.3 0.7 1.1]\n",
            "[0.57444252 0.66818777 0.75026011]\n"
          ],
          "name": "stdout"
        }
      ]
    },
    {
      "cell_type": "markdown",
      "metadata": {
        "id": "WEQIRZgQEuRL",
        "colab_type": "text"
      },
      "source": [
        "3층 신경망 - 코드정리"
      ]
    },
    {
      "cell_type": "code",
      "metadata": {
        "id": "jAW6RsVdE6gt",
        "colab_type": "code",
        "outputId": "737d22aa-a26b-4785-9bcd-ea2638ed0e00",
        "colab": {
          "base_uri": "https://localhost:8080/",
          "height": 34
        }
      },
      "source": [
        "def init_network():\n",
        "  network = {}\n",
        "  network['W1'] = np.array([[0.1,0.3,0.5],[0.2,0.4,0.6]])\n",
        "  network['b1'] = np.array([0.1,0.2,0.3])\n",
        "  network['W2'] = np.array([[0.1,0.4],[0.2,0.5],[0.3,0.6]])\n",
        "  network['b2'] = np.array([0.1,0.2])\n",
        "  network['W3'] = np.array([[0.1,0.3],[0.2,0.4]])\n",
        "  network['b3'] = np.array([0.1,0.2])\n",
        "\n",
        "  return network\n",
        "\n",
        "def forward(network, x):\n",
        "  W1,W2,W3 = network['W1'], network['W2'], network['W3']\n",
        "  b1,b2,b3 = network['b1'], network['b2'], network['b3']\n",
        "\n",
        "  a1 = np.dot(x,W1) + b1\n",
        "  z1 = sigmoid(a1)\n",
        "  a2 = np.dot(z1,W2) + b2\n",
        "  z2 = sigmoid(a2)\n",
        "  a3 = np.dot(z2,W3) + b3\n",
        "  y = identity_function(a3)\n",
        "\n",
        "  return y\n",
        "\n",
        "network = init_network()\n",
        "x = np.array([1.0,0.5])\n",
        "y = forward(network, x)\n",
        "print(y) # [0.31682708 0.69627909]"
      ],
      "execution_count": 41,
      "outputs": [
        {
          "output_type": "stream",
          "text": [
            "[0.31682708 0.69627909]\n"
          ],
          "name": "stdout"
        }
      ]
    },
    {
      "cell_type": "markdown",
      "metadata": {
        "id": "8-vTgOedGMTs",
        "colab_type": "text"
      },
      "source": [
        "기계 학습 문제 : 분류(classification)와 회귀(regression)"
      ]
    },
    {
      "cell_type": "markdown",
      "metadata": {
        "id": "qK7-5iinGZob",
        "colab_type": "text"
      },
      "source": [
        "softmax 함수 : 분류 문제에 이용"
      ]
    },
    {
      "cell_type": "code",
      "metadata": {
        "id": "D8AyLhs0GjtP",
        "colab_type": "code",
        "colab": {}
      },
      "source": [
        "def softmax(a):\n",
        "  c = np.max(a) # overflow를 막는 대책\n",
        "  exp_a = np.exp(a - c)\n",
        "  sum_exp_a = np.sum(exp_a)\n",
        "  y = exp_a/sum_exp_a\n",
        "\n",
        "  return y"
      ],
      "execution_count": 0,
      "outputs": []
    },
    {
      "cell_type": "code",
      "metadata": {
        "id": "KwqkqkH7GnJa",
        "colab_type": "code",
        "outputId": "ff96734b-5bb1-4411-8c75-e89a2fe7b2cf",
        "colab": {
          "base_uri": "https://localhost:8080/",
          "height": 300
        }
      },
      "source": [
        "x = np.array([0.3,2.9,4.0])\n",
        "y = softmax(x)\n",
        "plt.plot(x,y)\n",
        "plt.show()\n",
        "\n",
        "print(y) # [0.01821127 0.24519181 0.73659691]\n",
        "print(np.sum(y))"
      ],
      "execution_count": 43,
      "outputs": [
        {
          "output_type": "display_data",
          "data": {
            "image/png": "[encoded data removed]",
            "text/plain": [
              "<Figure size 432x288 with 1 Axes>"
            ]
          },
          "metadata": {
            "tags": [],
            "needs_background": "light"
          }
        },
        {
          "output_type": "stream",
          "text": [
            "[0.01821127 0.24519181 0.73659691]\n",
            "1.0\n"
          ],
          "name": "stdout"
        }
      ]
    },
    {
      "cell_type": "markdown",
      "metadata": {
        "id": "sC-KpMYMK5hj",
        "colab_type": "text"
      },
      "source": [
        "손글씨 MNIST 예제"
      ]
    },
    {
      "cell_type": "code",
      "metadata": {
        "id": "OwbXsWIFK7UE",
        "colab_type": "code",
        "outputId": "9852974d-a7c0-4b83-c9ed-8e79f56d924b",
        "colab": {
          "base_uri": "https://localhost:8080/",
          "height": 335
        }
      },
      "source": [
        "import sys, os\n",
        "import numpy as np\n",
        "from mnist import load_mnist\n",
        "import matplotlib.pylab as plt\n",
        "\n",
        "# 처음 한 번은 몇 분 걸림\n",
        "(x_train, t_train), (x_test, t_test) = load_mnist(flatten=True, normalize=False)\n",
        "\n",
        "# 각 데이터 형상 출력\n",
        "#print(x_train.shape) #(60000,784)\n",
        "#print(t_train.shape) #(60000,)\n",
        "#print(x_test.shape) #(10000,784)\n",
        "#print(t_test.shape) #(10000,)\n",
        "\n",
        "img = x_train[0]\n",
        "label = t_train[0]\n",
        "print(label) #5\n",
        "\n",
        "print(img.shape) # (784,)\n",
        "img = img.reshape(28,28) # 원래 이미지 모양으로 변형\n",
        "print(img.shape) # (28,28)\n",
        "\n",
        "plt.imshow(img, cmap='gray')"
      ],
      "execution_count": 45,
      "outputs": [
        {
          "output_type": "stream",
          "text": [
            "5\n",
            "(784,)\n",
            "(28, 28)\n"
          ],
          "name": "stdout"
        },
        {
          "output_type": "execute_result",
          "data": {
            "text/plain": [
              "<matplotlib.image.AxesImage at 0x7f64059e8160>"
            ]
          },
          "metadata": {
            "tags": []
          },
          "execution_count": 45
        },
        {
          "output_type": "display_data",
          "data": {
            "image/png": "[encoded data removed]",
            "text/plain": [
              "<Figure size 432x288 with 1 Axes>"
            ]
          },
          "metadata": {
            "tags": [],
            "needs_background": "light"
          }
        }
      ]
    },
    {
      "cell_type": "code",
      "metadata": {
        "id": "g2FaiZc5NU6u",
        "colab_type": "code",
        "colab": {}
      },
      "source": [
        "import pickle\n",
        "\n",
        "def get_data():\n",
        "  (x_train, t_train), (x_test, t_test) = load_mnist(normalize=True, flatten=True, one_hot_label=False)\n",
        "  return x_test, t_test\n",
        "\n",
        "def init_network():\n",
        "  with open(\"/content/drive/My Drive/Colab Notebooks/DeepLearning/03/sample_weight.pkl\", 'rb') as f:\n",
        "    network = pickle.load(f)\n",
        "\n",
        "  return network\n",
        "\n",
        "def predict(network, x):\n",
        "  W1, W2, W3 = network['W1'],network['W2'],network['W3']\n",
        "  b1, b2, b3 = network['b1'],network['b2'],network['b3']\n",
        "\n",
        "  a1 = np.dot(x, W1) + b1\n",
        "  z1 = sigmoid(a1)\n",
        "  a2 = np.dot(z1, W2) + b2\n",
        "  z2 = sigmoid(a2)\n",
        "  a3 = np.dot(z2, W3) + b3\n",
        "  y = softmax(a3)\n",
        "\n",
        "  return y"
      ],
      "execution_count": 0,
      "outputs": []
    },
    {
      "cell_type": "code",
      "metadata": {
        "id": "zYUmDyRDN1GR",
        "colab_type": "code",
        "outputId": "3d9b317d-0ed5-4899-a8b8-b951395bb906",
        "colab": {
          "base_uri": "https://localhost:8080/",
          "height": 34
        }
      },
      "source": [
        "x, t = get_data()\n",
        "network = init_network()\n",
        "\n",
        "accuracy_cnt = 0\n",
        "for i in range(len(x)):\n",
        "  y = predict(network, x[i])\n",
        "  p = np.argmax(y) # 확률 가장 높은 원소 index\n",
        "  if p==t[i]:\n",
        "    accuracy_cnt += 1\n",
        "  \n",
        "print(\"Accuracy: \"+str(float(accuracy_cnt)/len(x)))"
      ],
      "execution_count": 47,
      "outputs": [
        {
          "output_type": "stream",
          "text": [
            "Accuracy: 0.9352\n"
          ],
          "name": "stdout"
        }
      ]
    },
    {
      "cell_type": "markdown",
      "metadata": {
        "id": "p_zrkRYkO-AT",
        "colab_type": "text"
      },
      "source": [
        "내 handwriting 학습시킨 결과"
      ]
    },
    {
      "cell_type": "code",
      "metadata": {
        "id": "uFLtd-kNPAXK",
        "colab_type": "code",
        "outputId": "8582969a-5574-4a0b-cb04-28dfe4f7e0a4",
        "colab": {
          "base_uri": "https://localhost:8080/",
          "height": 317
        }
      },
      "source": [
        "import cv2\n",
        "\n",
        "network = init_network()\n",
        "\n",
        "# read image\n",
        "my_x = cv2.imread(\"/content/drive/My Drive/Colab Notebooks/DeepLearning/03/my_five.png\", cv2.IMREAD_GRAYSCALE)\n",
        "\n",
        "# resize, flatten\n",
        "resized_my_x = cv2.resize(my_x, dsize=(28,28), interpolation=cv2.INTER_AREA)\n",
        "resized_my_x = 1-resized_my_x\n",
        "plt.imshow(resized_my_x, cmap='gray') # show 28,28 image\n",
        "resized_my_x = resized_my_x.flatten() # flatten\n",
        " \n",
        "# predict\n",
        "y = predict(network, resized_my_x)\n",
        "p = np.argmax(y) # 확률 가장 높은 원소 index\n",
        "print(\"RESULT:\",(p))"
      ],
      "execution_count": 48,
      "outputs": [
        {
          "output_type": "stream",
          "text": [
            "/usr/local/lib/python3.6/dist-packages/ipykernel_launcher.py:2: RuntimeWarning: overflow encountered in exp\n",
            "  \n"
          ],
          "name": "stderr"
        },
        {
          "output_type": "stream",
          "text": [
            "RESULT: 5\n"
          ],
          "name": "stdout"
        },
        {
          "output_type": "display_data",
          "data": {
            "image/png": "[encoded data removed]",
            "text/plain": [
              "<Figure size 432x288 with 1 Axes>"
            ]
          },
          "metadata": {
            "tags": [],
            "needs_background": "light"
          }
        }
      ]
    },
    {
      "cell_type": "markdown",
      "metadata": {
        "id": "jYy8mOJXs1Ek",
        "colab_type": "text"
      },
      "source": [
        "배치 처리"
      ]
    },
    {
      "cell_type": "code",
      "metadata": {
        "id": "ahWqXdmEs2P0",
        "colab_type": "code",
        "colab": {
          "base_uri": "https://localhost:8080/",
          "height": 34
        },
        "outputId": "2a17c45f-24d6-4eba-8394-b0a825c8aa23"
      },
      "source": [
        "x, t = get_data()\n",
        "network = init_network()\n",
        "\n",
        "batch_size = 100 # batch size\n",
        "accuracy_cnt = 0\n",
        "for i in range(0,len(x),batch_size):\n",
        "  x_batch = x[i:i+batch_size]\n",
        "  y_batch = predict(network, x_batch)\n",
        "  p = np.argmax(y_batch, axis=1) # 확률 가장 높은 원소 index\n",
        "  accuracy_cnt += np.sum(p == t[i:i+batch_size])\n",
        "\n",
        "print(\"Accuracy: \"+str(float(accuracy_cnt)/len(x)))"
      ],
      "execution_count": 54,
      "outputs": [
        {
          "output_type": "stream",
          "text": [
            "Accuracy: 0.9352\n"
          ],
          "name": "stdout"
        }
      ]
    }
  ]
}