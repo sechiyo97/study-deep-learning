{
  "nbformat": 4,
  "nbformat_minor": 0,
  "metadata": {
    "colab": {
      "name": "deeplearning_ch3_0528.ipynb",
      "provenance": [],
      "authorship_tag": "ABX9TyN5BoozOx+Srua56Snkm/84",
      "include_colab_link": true
    },
    "kernelspec": {
      "name": "python3",
      "display_name": "Python 3"
    }
  },
  "cells": [
    {
      "cell_type": "markdown",
      "metadata": {
        "id": "view-in-github",
        "colab_type": "text"
      },
      "source": [
        "<a href=\"https://colab.research.google.com/github/sechiyo97/studyDeeplearning/blob/master/deeplearning_ch3_0528.ipynb\" target=\"_parent\"><img src=\"https://colab.research.google.com/assets/colab-badge.svg\" alt=\"Open In Colab\"/></a>"
      ]
    },
    {
      "cell_type": "markdown",
      "metadata": {
        "id": "X078zeEyduIE",
        "colab_type": "text"
      },
      "source": [
        "계단 함수"
      ]
    },
    {
      "cell_type": "code",
      "metadata": {
        "id": "Su0t84OOflMZ",
        "colab_type": "code",
        "colab": {}
      },
      "source": [
        "import numpy as np\n",
        "import matplotlib.pylab as plt"
      ],
      "execution_count": 0,
      "outputs": []
    },
    {
      "cell_type": "code",
      "metadata": {
        "id": "iB_XCxVzdqAB",
        "colab_type": "code",
        "colab": {}
      },
      "source": [
        "# only integer and floating point\n",
        "def step_function(x):\n",
        "  if x>0:\n",
        "    return 1\n",
        "  else:\n",
        "    return 0"
      ],
      "execution_count": 0,
      "outputs": []
    },
    {
      "cell_type": "code",
      "metadata": {
        "id": "OudLP5cNfZT6",
        "colab_type": "code",
        "colab": {}
      },
      "source": [
        "# also numpy array\n",
        "def step_function(x):\n",
        "  return np.array(x>0, dtype=np.int)"
      ],
      "execution_count": 0,
      "outputs": []
    },
    {
      "cell_type": "code",
      "metadata": {
        "id": "j-DlG7GOf0QV",
        "colab_type": "code",
        "outputId": "8f66be4a-27f4-4694-c279-0e6b0fe7efb0",
        "colab": {
          "base_uri": "https://localhost:8080/",
          "height": 265
        }
      },
      "source": [
        "x = np.arange(-5.0,5.0,0.1)\n",
        "y = step_function(x)\n",
        "plt.plot(x,y)\n",
        "plt.ylim(-0.1,1.1) # y축 범위 지정\n",
        "plt.show()"
      ],
      "execution_count": 0,
      "outputs": [
        {
          "output_type": "display_data",
          "data": {
            "image/png": "[encoded data removed]",
            "text/plain": [
              "<Figure size 432x288 with 1 Axes>"
            ]
          },
          "metadata": {
            "tags": [],
            "needs_background": "light"
          }
        }
      ]
    },
    {
      "cell_type": "markdown",
      "metadata": {
        "id": "CieRPP3yf-bW",
        "colab_type": "text"
      },
      "source": [
        "시그모이드 함수"
      ]
    },
    {
      "cell_type": "code",
      "metadata": {
        "id": "FkuvGYF2f_tp",
        "colab_type": "code",
        "colab": {}
      },
      "source": [
        "def sigmoid(x):\n",
        "  return 1 / (1+np.exp(-x))"
      ],
      "execution_count": 0,
      "outputs": []
    },
    {
      "cell_type": "code",
      "metadata": {
        "id": "xbpd9NFpgHXP",
        "colab_type": "code",
        "outputId": "e4190541-9934-4cdc-bca7-ec0be1323862",
        "colab": {
          "base_uri": "https://localhost:8080/",
          "height": 265
        }
      },
      "source": [
        "x = np.arange(-5.0,5.0,0.1)\n",
        "y = sigmoid(x)\n",
        "plt.plot(x,y)\n",
        "plt.ylim(-0.1,1.1) # y축 범위 지정\n",
        "plt.show()"
      ],
      "execution_count": 0,
      "outputs": [
        {
          "output_type": "display_data",
          "data": {
            "image/png": "[encoded data removed]",
            "text/plain": [
              "<Figure size 432x288 with 1 Axes>"
            ]
          },
          "metadata": {
            "tags": [],
            "needs_background": "light"
          }
        }
      ]
    },
    {
      "cell_type": "markdown",
      "metadata": {
        "id": "CjUGbeKqggxl",
        "colab_type": "text"
      },
      "source": [
        "ReLU (Rectified Linear Unit) 함수"
      ]
    },
    {
      "cell_type": "code",
      "metadata": {
        "id": "vOokOe8NghUR",
        "colab_type": "code",
        "colab": {}
      },
      "source": [
        "def relu(x):\n",
        "  return np.maximum(0,x)"
      ],
      "execution_count": 0,
      "outputs": []
    },
    {
      "cell_type": "code",
      "metadata": {
        "id": "l5Y2qizhgqbE",
        "colab_type": "code",
        "outputId": "dbb5dfcb-969f-4931-f008-739756f850c9",
        "colab": {
          "base_uri": "https://localhost:8080/",
          "height": 265
        }
      },
      "source": [
        "x = np.arange(-5.0,5.0,0.1)\n",
        "y = relu(x)\n",
        "plt.plot(x,y)\n",
        "plt.xlim(-6,6) # x축 범위 지정\n",
        "plt.ylim(-1,5.5) # y축 범위 지정\n",
        "plt.show()"
      ],
      "execution_count": 0,
      "outputs": [
        {
          "output_type": "display_data",
          "data": {
            "image/png": "[encoded data removed]",
            "text/plain": [
              "<Figure size 432x288 with 1 Axes>"
            ]
          },
          "metadata": {
            "tags": [],
            "needs_background": "light"
          }
        }
      ]
    }
  ]
}