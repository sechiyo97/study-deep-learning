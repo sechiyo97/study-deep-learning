{
  "nbformat": 4,
  "nbformat_minor": 0,
  "metadata": {
    "colab": {
      "name": "deeplearning_ch5_0601.ipynb",
      "provenance": [],
      "authorship_tag": "ABX9TyNyq1OxmH9TcKWjK5SfeyiI",
      "include_colab_link": true
    },
    "kernelspec": {
      "name": "python3",
      "display_name": "Python 3"
    }
  },
  "cells": [
    {
      "cell_type": "markdown",
      "metadata": {
        "id": "view-in-github",
        "colab_type": "text"
      },
      "source": [
        "<a href=\"https://colab.research.google.com/github/sechiyo97/studyDeeplearning/blob/master/deeplearning_ch5_0601.ipynb\" target=\"_parent\"><img src=\"https://colab.research.google.com/assets/colab-badge.svg\" alt=\"Open In Colab\"/></a>"
      ]
    },
    {
      "cell_type": "code",
      "metadata": {
        "id": "T9apy143abWU",
        "colab_type": "code",
        "colab": {}
      },
      "source": [
        "from google.colab import drive\n",
        "drive.mount('/content/drive/')\n",
        "\n",
        "import sys\n",
        "import numpy as np\n",
        "import matplotlib.pylab as plt\n",
        "sys.path.insert(0,'/content/drive/My Drive/Colab Notebooks/DeepLearning')\n",
        "sys.path.insert(0,'/content/drive/My Drive/Colab Notebooks/DeepLearning/ch05')"
      ],
      "execution_count": 0,
      "outputs": []
    }
  ]
}