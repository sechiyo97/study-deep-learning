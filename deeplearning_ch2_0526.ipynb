{
  "nbformat": 4,
  "nbformat_minor": 0,
  "metadata": {
    "colab": {
      "name": "deeplearning_ch2_0526.ipynb",
      "provenance": [],
      "authorship_tag": "ABX9TyMcDcFBEWxa75PIGXkqQsM2",
      "include_colab_link": true
    },
    "kernelspec": {
      "name": "python3",
      "display_name": "Python 3"
    }
  },
  "cells": [
    {
      "cell_type": "markdown",
      "metadata": {
        "id": "view-in-github",
        "colab_type": "text"
      },
      "source": [
        "<a href=\"https://colab.research.google.com/github/sechiyo97/studyDeeplearning/blob/master/deeplearning_ch2_0526.ipynb\" target=\"_parent\"><img src=\"https://colab.research.google.com/assets/colab-badge.svg\" alt=\"Open In Colab\"/></a>"
      ]
    },
    {
      "cell_type": "markdown",
      "metadata": {
        "id": "x4mGGJ4AWxZD",
        "colab_type": "text"
      },
      "source": [
        "PERCEPTRON\n"
      ]
    },
    {
      "cell_type": "markdown",
      "metadata": {
        "id": "53Rnaf2fZjSI",
        "colab_type": "text"
      },
      "source": [
        "SINGLE-LAYER PERCEPTRON"
      ]
    },
    {
      "cell_type": "code",
      "metadata": {
        "id": "EyVuw0sJXt-c",
        "colab_type": "code",
        "colab": {}
      },
      "source": [
        "import numpy as np"
      ],
      "execution_count": 0,
      "outputs": []
    },
    {
      "cell_type": "markdown",
      "metadata": {
        "id": "iKvt5zWiXYGq",
        "colab_type": "text"
      },
      "source": [
        "AND (1)"
      ]
    },
    {
      "cell_type": "code",
      "metadata": {
        "id": "gSX3bP56WtNO",
        "colab_type": "code",
        "colab": {
          "base_uri": "https://localhost:8080/",
          "height": 87
        },
        "outputId": "18e70f86-dfda-4fd7-cf9e-8fd2e3f53b35"
      },
      "source": [
        "def AND(x1,x2):\n",
        "  w1, w2, theta = 0.5,0.5,0.7\n",
        "  tmp = x1*w1 + x2*w2\n",
        "  if tmp <= theta:\n",
        "    return 0\n",
        "  else:\n",
        "    return 1\n",
        "\n",
        "print(AND(0,0))\n",
        "print(AND(0,1))\n",
        "print(AND(1,0))\n",
        "print(AND(1,1))"
      ],
      "execution_count": 5,
      "outputs": [
        {
          "output_type": "stream",
          "text": [
            "0\n",
            "0\n",
            "0\n",
            "1\n"
          ],
          "name": "stdout"
        }
      ]
    },
    {
      "cell_type": "markdown",
      "metadata": {
        "id": "3U3tOQPxXZ3f",
        "colab_type": "text"
      },
      "source": [
        "AND (2)"
      ]
    },
    {
      "cell_type": "code",
      "metadata": {
        "id": "wbxSGB8bXbK-",
        "colab_type": "code",
        "colab": {
          "base_uri": "https://localhost:8080/",
          "height": 87
        },
        "outputId": "98676f19-84f0-49fe-9e5a-097dac7c4338"
      },
      "source": [
        "def AND(x1,x2):\n",
        "  x = np.array([x1,x2])\n",
        "  w = np.array([0.5,0.5]) # w : 가중치\n",
        "  b = -0.7\n",
        "  tmp = np.sum(w*x) + b # b : 편향 (위 예제의 0.7을 이항한 것)\n",
        "  if tmp <= 0:\n",
        "    return 0\n",
        "  else:\n",
        "    return 1\n",
        "    \n",
        "print(AND(0,0))\n",
        "print(AND(0,1))\n",
        "print(AND(1,0))\n",
        "print(AND(1,1))"
      ],
      "execution_count": 13,
      "outputs": [
        {
          "output_type": "stream",
          "text": [
            "0\n",
            "0\n",
            "0\n",
            "1\n"
          ],
          "name": "stdout"
        }
      ]
    },
    {
      "cell_type": "markdown",
      "metadata": {
        "id": "76nsKWJkX3oi",
        "colab_type": "text"
      },
      "source": [
        "NAND, OR, XOR"
      ]
    },
    {
      "cell_type": "code",
      "metadata": {
        "id": "Qhsj_MNPX2y4",
        "colab_type": "code",
        "colab": {
          "base_uri": "https://localhost:8080/",
          "height": 87
        },
        "outputId": "b1800396-49b9-4b45-8843-a7554ed2a488"
      },
      "source": [
        "def NAND(x1,x2):\n",
        "  x = np.array([x1,x2])\n",
        "  w = np.array([-0.5,-0.5]) \n",
        "  b = 0.7\n",
        "  tmp = np.sum(w*x) + b # 이 식을 유지한 채로 w, b만 바꾸어서 다른 게이트 구현\n",
        "  if tmp <= 0:\n",
        "    return 0\n",
        "  else:\n",
        "    return 1\n",
        "    \n",
        "print(NAND(0,0))\n",
        "print(NAND(1,0))\n",
        "print(NAND(0,1))\n",
        "print(NAND(1,1))"
      ],
      "execution_count": 15,
      "outputs": [
        {
          "output_type": "stream",
          "text": [
            "1\n",
            "1\n",
            "1\n",
            "0\n"
          ],
          "name": "stdout"
        }
      ]
    },
    {
      "cell_type": "code",
      "metadata": {
        "id": "QO57k2ztW9Yn",
        "colab_type": "code",
        "colab": {
          "base_uri": "https://localhost:8080/",
          "height": 87
        },
        "outputId": "60c5952e-2f3d-4a2b-ffe2-e0ed13844e66"
      },
      "source": [
        "def OR(x1,x2):\n",
        "  x = np.array([x1,x2])\n",
        "  w = np.array([0.5,0.5]) \n",
        "  b = -0.4 # -0.5보다 큰 음수 값이면 다 될 듯\n",
        "  tmp = np.sum(w*x) + b # 이 식을 유지한 채로 w, b만 바꾸어서 다른 게이트 구현\n",
        "  if tmp <= 0:\n",
        "    return 0\n",
        "  else:\n",
        "    return 1\n",
        "    \n",
        "print(OR(0,0))\n",
        "print(OR(1,0))\n",
        "print(OR(0,1))\n",
        "print(OR(1,1))"
      ],
      "execution_count": 17,
      "outputs": [
        {
          "output_type": "stream",
          "text": [
            "0\n",
            "1\n",
            "1\n",
            "1\n"
          ],
          "name": "stdout"
        }
      ]
    },
    {
      "cell_type": "code",
      "metadata": {
        "id": "POnXy2tzYgT9",
        "colab_type": "code",
        "colab": {
          "base_uri": "https://localhost:8080/",
          "height": 87
        },
        "outputId": "4c9088f7-87d3-4ce1-b60b-1b7d09fc085e"
      },
      "source": [
        "def NOR(x1,x2):\n",
        "  x = np.array([x1,x2])\n",
        "  w = np.array([-0.5,-0.5]) \n",
        "  b = 0.4 # -0.5보다 큰 음수 값이면 다 될 듯\n",
        "  tmp = np.sum(w*x) + b # 이 식을 유지한 채로 w, b만 바꾸어서 다른 게이트 구현\n",
        "  if tmp <= 0:\n",
        "    return 0\n",
        "  else:\n",
        "    return 1\n",
        "    \n",
        "print(NOR(0,0))\n",
        "print(NOR(1,0))\n",
        "print(NOR(0,1))\n",
        "print(NOR(1,1))"
      ],
      "execution_count": 18,
      "outputs": [
        {
          "output_type": "stream",
          "text": [
            "1\n",
            "0\n",
            "0\n",
            "0\n"
          ],
          "name": "stdout"
        }
      ]
    },
    {
      "cell_type": "markdown",
      "metadata": {
        "id": "pdxHeTfIZnVA",
        "colab_type": "text"
      },
      "source": [
        "MULTI-LAYER PERCEPTRON"
      ]
    },
    {
      "cell_type": "markdown",
      "metadata": {
        "id": "N5rJoyGGZrph",
        "colab_type": "text"
      },
      "source": [
        "XOR"
      ]
    },
    {
      "cell_type": "code",
      "metadata": {
        "id": "J5OqFFveZpUp",
        "colab_type": "code",
        "colab": {
          "base_uri": "https://localhost:8080/",
          "height": 87
        },
        "outputId": "23ef5753-e3f8-40e5-a115-ac4020770dea"
      },
      "source": [
        "def XOR(x1,x2):\n",
        "  s1 = NAND(x1,x2)\n",
        "  s2 = OR(x1,x2)\n",
        "  y = AND(s1,s2)\n",
        "  return y\n",
        "\n",
        "print(XOR(0,0))\n",
        "print(XOR(1,0))\n",
        "print(XOR(0,1))\n",
        "print(XOR(1,1))"
      ],
      "execution_count": 19,
      "outputs": [
        {
          "output_type": "stream",
          "text": [
            "0\n",
            "1\n",
            "1\n",
            "0\n"
          ],
          "name": "stdout"
        }
      ]
    }
  ]
}